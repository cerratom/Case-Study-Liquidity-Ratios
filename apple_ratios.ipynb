{
 "metadata": {
  "language_info": {
   "codemirror_mode": {
    "name": "ipython",
    "version": 3
   },
   "file_extension": ".py",
   "mimetype": "text/x-python",
   "name": "python",
   "nbconvert_exporter": "python",
   "pygments_lexer": "ipython3",
   "version": 3
  },
  "orig_nbformat": 2,
  "kernelspec": {
   "name": "python_defaultSpec_1597077821826",
   "display_name": "Python 3.8.2 64-bit"
  }
 },
 "nbformat": 4,
 "nbformat_minor": 2,
 "cells": [
  {
   "cell_type": "markdown",
   "metadata": {},
   "source": [
    "# Using a custom python module to evaluate Apple Inc. liquidity for the last 10 years\n",
    "\n",
    "Before we begin to write the Python script, make sure to have downloaded the exercise files `apple.csv` and python module `financialratios.py`. Make sure both files are in the same folder as the script. "
   ]
  },
  {
   "cell_type": "markdown",
   "metadata": {},
   "source": [
    "## Step 1: Import the necessary libraries and modules\n",
    "\n",
    "The first step is to import the necessary python module and libraries. We will use the following libraries:\n",
    "\n",
    "- The **panda's library**: This library helps us import and manipulate Apple's dataset. It also allows us to use our module to calculate the liquidity ratios. \n",
    "- The **matplotlib library**: This library allows us to visualize our data in graphs. \n",
    "- The **financial ratios module**: This module contains all the functions that we created to calculate various financial ratios. \n",
    "\n",
    "We can learn more about functions, libraries, and how to write the financial ratio module by reading **this article**.\n",
    "\n",
    "Next open Microsoft's Visual Studio Code and create the script as a Jupyter Notebook file in the same folder where we have the files `apple.csv` and the `financialratios.py` module."
   ]
  },
  {
   "cell_type": "code",
   "execution_count": null,
   "metadata": {},
   "outputs": [],
   "source": [
    "# Step 1: Importing the required libraries and modules\n",
    "\n",
    "from matplotlib.pyplot import colorbar\n",
    "import financialratios as fr\n",
    "import pandas as pd \n",
    "import matplotlib.pyplot as plt"
   ]
  },
  {
   "cell_type": "markdown",
   "metadata": {},
   "source": [
    "## Step 2: Import the dataset\n",
    "\n",
    "Now that we have our libraries, we can use the `pd.read_csv` to import the `apple.csv` file, which contains the data we will use to calculate the financial ratios. We will store the pandas DataFrame into an object called `df`. We can do this by writing the following line of code."
   ]
  },
  {
   "cell_type": "code",
   "execution_count": null,
   "metadata": {},
   "outputs": [],
   "source": [
    "df = pd.read_csv('apple.csv', index_col='Date', parse_dates=True)"
   ]
  },
  {
   "cell_type": "markdown",
   "metadata": {},
   "source": [
    "## Step 3: Creating the empty DataFrame \n",
    "\n",
    "Now that we have imported our dataset and saved it to the DataFrame `df`, we want to create an empty DataFrame called `df_ratios` by writing the following code:"
   ]
  },
  {
   "cell_type": "code",
   "execution_count": null,
   "metadata": {},
   "outputs": [],
   "source": [
    "# Create the column names\n",
    "column_names = [\"Current Ratio\", \"Quick Ratio\", \"Cash Ratio\"]\n",
    "# Create the empty dataframe\n",
    "df_ratios = pd.DataFrame(columns=column_names)"
   ]
  },
  {
   "cell_type": "markdown",
   "metadata": {},
   "source": [
    "## Step 4: Calculating the Current Ratio\n",
    "\n",
    "Our fourth step is to use the custom module `financialratios` to call the `function get_current_ratio` and calculate the **current ratio**. We will save the results into the new DataFrame `df_ratios` under the column named *\"Current Ratio.\"* Here is the line of code we need to write:"
   ]
  },
  {
   "cell_type": "code",
   "execution_count": null,
   "metadata": {},
   "outputs": [],
   "source": [
    "df_ratios[\"Current Ratio\"] = fr.get_current_ratio(df['current assets'], df['current liabilities'])"
   ]
  },
  {
   "cell_type": "code",
   "execution_count": null,
   "metadata": {
    "tags": []
   },
   "outputs": [],
   "source": [
    "df_ratios.head()"
   ]
  },
  {
   "cell_type": "markdown",
   "metadata": {},
   "source": [
    "## Step 5: Calculating the Quick and Cash Ratios\n",
    "\n",
    "Now that we know our script is working, we can continue calculating the other two ratios in the same way we did with the current ratio column."
   ]
  },
  {
   "cell_type": "code",
   "execution_count": null,
   "metadata": {},
   "outputs": [],
   "source": [
    "df_ratios[\"Quick Ratio\"] = fr.get_quick_ratio(df['current assets'], df['inventories'], df['current liabilities'])\n",
    "df_ratios[\"Cash Ratio\"] =  fr.get_cash_ratio(df['cash & cash equivalent'], df['current liabilities'])"
   ]
  },
  {
   "cell_type": "code",
   "execution_count": null,
   "metadata": {},
   "outputs": [],
   "source": [
    "df_ratios.head()"
   ]
  },
  {
   "cell_type": "markdown",
   "metadata": {},
   "source": [
    "## Step 6: Exporting the DataFrame to an Excel File\n",
    "\n",
    "Now that we have calculated all the liquidity ratios for the last 10 years, we can export the table to a Microsoft Excel file."
   ]
  },
  {
   "cell_type": "code",
   "execution_count": null,
   "metadata": {},
   "outputs": [],
   "source": [
    "# 6.1 Create an Excel Data of Liquidity Ratios\n",
    "\n",
    "df_ratios.to_excel('liquidity-ratios.xlsx')"
   ]
  },
  {
   "cell_type": "markdown",
   "metadata": {},
   "source": [
    "## Step 7: Visualizing the Current Ratio\n",
    "\n",
    "In this step, we will use the library `matplotlib` to plot the **current ratios** for the past 10 years. Remember that we will set the industry benchmark as **1.96**."
   ]
  },
  {
   "cell_type": "code",
   "execution_count": null,
   "metadata": {},
   "outputs": [],
   "source": [
    "# 7. Visualizing the Current Ratio\n",
    "plt.plot(df_ratios['Current Ratio'])\n",
    "plt.axhline(y=1.96, color='r')\n",
    "plt.xticks(rotation=45)\n",
    "plt.title('Current Ratio')\n",
    "plt.xlabel('Years')\n",
    "plt.ylabel('Ratio')\n",
    "plt.show()"
   ]
  },
  {
   "cell_type": "markdown",
   "metadata": {},
   "source": [
    "## Step 8: Visualizing the Quick Ratio\n",
    "\n",
    "To better understand if Apple's liquidity is sufficient to meet its short-term liabilities, let us dig deeper and take out their inventories by visualizing the **quick ratio**. "
   ]
  },
  {
   "cell_type": "code",
   "execution_count": null,
   "metadata": {},
   "outputs": [],
   "source": [
    "plt.plot(df_ratios['Quick Ratio'])\n",
    "plt.axhline(y=1.58, color='g')\n",
    "plt.axhline(y=1, color='r')\n",
    "plt.xticks(rotation=45)\n",
    "plt.title('Quick Ratio')\n",
    "plt.xlabel('Years')\n",
    "plt.ylabel('Ratio')\n",
    "plt.show()"
   ]
  },
  {
   "cell_type": "markdown",
   "metadata": {},
   "source": [
    "## Step 9: Visualizing the Cash Ratio\n",
    "\n",
    "Up to this point, we have seen that Apple Inc. has sufficient liquidity. We can further understand how much of its liquidity is in the form of cash and cash equivalent assets by using visualizing their cash ratio."
   ]
  },
  {
   "cell_type": "code",
   "execution_count": null,
   "metadata": {},
   "outputs": [],
   "source": [
    "# 9. Visualizing the Cash Ratio\n",
    "plt.plot(df_ratios['Cash Ratio'])\n",
    "plt.xticks(rotation=45)\n",
    "plt.title('Cash Ratio')\n",
    "plt.xlabel('Years')\n",
    "plt.ylabel('Ratio')\n",
    "plt.show()"
   ]
  },
  {
   "cell_type": "markdown",
   "metadata": {},
   "source": [
    "## Recap\n",
    "\n",
    "As a recap, we did the following:\n",
    "\n",
    "- Read a brief description of Apple Inc.\n",
    "- Learned about liquidity ratios\n",
    "- Imported an external dataset into a pandas DataFrame that we called `df`.\n",
    "- Learned how to create an empty DataFrame `df_ratios`.\n",
    "- Calculate the current, quick, and cash ratios using a custom module that we created in a previous exercise.\n",
    "- Saved the new DataFrame to an Excel file named `liquidity-ratios.xlsx`\n",
    "- Visualized the current, quick, and cash ratios using the library `matplotlib`."
   ]
  },
  {
   "cell_type": "markdown",
   "metadata": {},
   "source": [
    "## Final Thoughts\n",
    "\n",
    "First of all, I hope you found this project useful and that you now have a better understanding of how python can be of great use for using custom modules and analyzing and visualizing datasets. Moreover, I hope you can apply what you have learned in this mini tutorial to your job.\n",
    "\n",
    "Please feel free to share this article through your social media and subscribe to my mailing list to receive information when publishing new content. Again thank you for your support. "
   ]
  },
  {
   "cell_type": "markdown",
   "metadata": {},
   "source": [
    "## Credits\n",
    "\n",
    "The following resources were used in creating this project.\n",
    "\n",
    "- The website [investor.apples.com](https://investor.apple.com/investor-relations/default.aspx)\n",
    "- The website [gurufocus.com](https://www.gurufocus.com/new_index/)\n",
    "- The article \"[What are Financial Ratios?](https://corporatefinanceinstitute.com/resources/knowledge/finance/financial-ratios/)\" by the [Corporate Finance Institute (CFI)](https://corporatefinanceinstitute.com/)\n",
    "- [Python 3.8.2](https://www.python.org/downloads/release/python-382/)\n",
    "- [Matplotlib library](https://matplotlib.org/)\n",
    "- [Pandas Library](https://pandas.pydata.org/)\n",
    "- [Microsoft Visual Studio Code](https://code.visualstudio.com/)\n",
    "- [Snagit by TechSmith](https://www.techsmith.com/screen-capture.html) \n",
    "- [Camtasia by TechSmith](https://www.techsmith.com/video-editor.html)\n",
    "- [Microsoft Windows 10 Professional](https://www.microsoft.com/en-us/p/windows-10-pro/df77x4d43rkt?activetab=pivot%3aoverviewtab)\n",
    "- [Typora](https://typora.io/)\n",
    "- [Git](https://git-scm.com/) & [GitHub](https://github.com/)\n",
    "- [Lenovo ThinkPad E585](https://www.lenovo.com/us/en/laptops/thinkpad/thinkpad-e-series/ThinkPad-E585/p/22TP2TEE585)\n",
    "- [Logitech MX Master](https://www.logitech.com/en-us/product/mx-master-3.910-005620.html)\n",
    "- [Blue Snowball Microphone]("
   ]
  },
  {
   "cell_type": "code",
   "execution_count": null,
   "metadata": {},
   "outputs": [],
   "source": []
  }
 ]
}